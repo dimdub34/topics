{
 "cells": [
  {
   "cell_type": "markdown",
   "id": "b1c92d0f-b413-4c08-8c13-9cbaa2696d62",
   "metadata": {
    "editable": true,
    "slideshow": {
     "slide_type": "slide"
    },
    "tags": []
   },
   "source": [
    "<h1>Time, Optimal Play, Nudges and Mobility: A Study of Dynamic CPR Games</h1>\n",
    "\n",
    "<h3>Dimitri Dubois</h3>\n",
    "\n",
    "<img src=\"img/ceem.png\" alt=\"CEE-M\" style=\"height: 50px; display: inline-block; margin-right: 10px\">\n",
    "<img src=\"img/cnrs.png\" alt=\"CNRS\" style=\"height: 50px; display: inline-block; margin-right: 10px\">"
   ]
  }
 ],
 "metadata": {
  "kernelspec": {
   "display_name": "Python 3 (ipykernel)",
   "language": "python",
   "name": "python3"
  },
  "language_info": {
   "codemirror_mode": {
    "name": "ipython",
    "version": 3
   },
   "file_extension": ".py",
   "mimetype": "text/x-python",
   "name": "python",
   "nbconvert_exporter": "python",
   "pygments_lexer": "ipython3",
   "version": "3.9.13"
  }
 },
 "nbformat": 4,
 "nbformat_minor": 5
}
