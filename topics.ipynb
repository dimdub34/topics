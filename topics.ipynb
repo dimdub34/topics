{
 "cells": [
  {
   "cell_type": "markdown",
   "id": "b1c92d0f-b413-4c08-8c13-9cbaa2696d62",
   "metadata": {
    "editable": true,
    "slideshow": {
     "slide_type": "slide"
    },
    "tags": []
   },
   "source": [
    "# Common Pool Resources\n",
    "\n",
    "**Dimitri Dubois**\n",
    "\n",
    "[https://www.duboishome.info/dimitri/cours/topics](https://www.duboishome.info/dimitri/cours/topics)\n",
    "\n",
    "<img src=\"img/logos/ceem.png\" alt=\"CEE-M\" style=\"height: 100px; display: inline-block; margin-right: 10px\">\n",
    "<img src=\"img/logos/cnrs.png\" alt=\"CNRS\" style=\"height: 100px; display: inline-block; margin-right: 10px\">\n",
    "<img src=\"img/logos/um.png\" alt=\"UM\" style=\"height: 100px; display: inline-block; margin-right: 10px\">"
   ]
  },
  {
   "cell_type": "markdown",
   "id": "0c210468-5d78-417f-ba46-874fdb536afb",
   "metadata": {
    "editable": true,
    "slideshow": {
     "slide_type": "subslide"
    },
    "tags": []
   },
   "source": [
    "## Table of content\n",
    "\n",
    "1. [Repeated Static CPR](#/2)\n",
    "2. [Dynamic CPR](#3)\n",
    "3. [Dynamic CPR with Spatial Externalities](#4)\n"
   ]
  },
  {
   "cell_type": "markdown",
   "id": "8349b5ef-7ce9-47e1-b853-7cc24821200b",
   "metadata": {
    "editable": true,
    "slideshow": {
     "slide_type": "slide"
    },
    "tags": []
   },
   "source": [
    "# Introduction"
   ]
  },
  {
   "cell_type": "markdown",
   "id": "315913bf-46ad-4ddf-aa02-f0f396ef6efb",
   "metadata": {
    "editable": true,
    "slideshow": {
     "slide_type": "subslide"
    },
    "tags": []
   },
   "source": [
    "- Common Pool Resources (CPRs) are resources that are non-excludable but rivalrous, like fisheries, groundwater basins, forest etc.\n",
    "- CPRs are subject to the **Tragedy of the Commons** (Hardin 1968), that leads to over-extraction and depletion of the resource.\n",
    "- This tragedy is not inevitable, as shown by Ostrom's work on economic governance of the commons.\n",
    "- Behavioral and experimental economists have also made contributions and found mechanisms that can help to mitigate the tragedy and reduce the over-exploitation, like :\n",
    "    - **Communication**: Allowing users to communicate can lead to more cooperative outcomes.\n",
    "    - **Sanctions**: Implementing penalties for overuse can deter individuals from over-exploiting the resource.\n",
    "    - **Property rights**: Assigning property rights to the resource can give individuals or groups an incentive to manage it sustainably.\n",
    "    - **Regulation**: Government regulations or quotas can limit the use of the resource and prevent over-exploitation.\n",
    "    - **Nudges**: Behavioral interventions, or \"nudges\", can influence individuals' decisions and promote more sustainable use of the resource."
   ]
  },
  {
   "cell_type": "markdown",
   "id": "10116bd6-d5b3-4c8c-ad59-a044a7d64760",
   "metadata": {
    "editable": true,
    "slideshow": {
     "slide_type": "slide"
    },
    "tags": []
   },
   "source": [
    "# Repeated Static Common Pool Resource"
   ]
  },
  {
   "cell_type": "markdown",
   "id": "0c8075a3-6f4d-4539-8ef7-8581882f2c19",
   "metadata": {
    "editable": true,
    "slideshow": {
     "slide_type": "subslide"
    },
    "tags": []
   },
   "source": [
    "## Information sharing\n",
    "\n",
    "Dubois, D., Farolfi, S., Rouchier, J. & Nguyen Van, P., 2020. \"[Contrasting effects of information sharing on CPR extraction behaviour: experimental findings](https://journals.plos.org/plosone/article?id=10.1371/journal.pone.0240212)\". Plos One 15 (10): e0241212."
   ]
  },
  {
   "cell_type": "markdown",
   "id": "74226131-fa0e-4283-a758-5b44b5fae1f2",
   "metadata": {
    "editable": true,
    "slideshow": {
     "slide_type": "subslide"
    },
    "tags": []
   },
   "source": [
    "### Research question\n",
    "\n",
    "- **Social information** -- the information available to participants about others' actions -- is crucial for common resource management.\n",
    "- Most participants are **conditional cooperators** (Fischbacher et al. 2001), highlighting the potential influence of social information on cooperative behavior.\n",
    "- **Aggregate information** about group decisions has been shown to increase contributions in public goods games. Adding **individual (anonymous) contributions** can further boost cooperation (Sell & Wilson, 1991).\n",
    "- However, detailed information about others' actions can decrease cooperation, as it may reveal **free riders** within the group (Nikiforakis, 2010; Villena & Zecchetto, 2010).\n",
    "- **Mixed impact of social information**: While some forms enhance cooperation, others can undermine it by exposing non-cooperative behavior.\n",
    "- **Modern connected devices and social networks** facilitate information exchange, enabling real-time sharing of consumption and resource extraction data.\n",
    "\n",
    "**Investigate the impact of social information through voluntary sharing mechanisms on cooperative behavior in common-pool resources.**\n",
    "\n",
    "Two Mechanisms of Information Sharing:\n",
    "- **Voluntary Disclosure (VD)**: Stakeholders choose whether to disclose their extraction level.\n",
    "- **Free Disclosure (FD)**: Stakeholders choose whether to disclose and **can determine the extraction level they display** (which may differ from the actual level)."
   ]
  },
  {
   "cell_type": "markdown",
   "id": "261dde17-4acd-4c0f-9132-4ecd8fc09502",
   "metadata": {
    "editable": true,
    "slideshow": {
     "slide_type": "subslide"
    },
    "tags": []
   },
   "source": [
    "### CPR Game\n",
    "\n",
    "- Each player $i$ in a group of $N=4$ participants can extract from $y_i = 0$ to $y_i =10$ tokens from a shared resource containing $40$ tokens.\n",
    "- The payoff function for each player $i$ is defined as: $\\pi_i(y_i, Y) = 3y_i - 0.01875 Y^2$, where $Y = \\sum y_i$ is the total extraction by all players in the group.\n",
    "- The dominant strategy for each player is to extract the maximum, $y_i = 10$, regardless of others' actions.\n",
    "- The collective payoff is maximized when the total extraction $Y = 20$ tokens. Achieved by each player extracting exactly $5$ tokens, balancing individual and group benefits."
   ]
  },
  {
   "cell_type": "markdown",
   "id": "8e0b014a-c234-4366-9243-5d7fb5a2d5c3",
   "metadata": {
    "editable": true,
    "slideshow": {
     "slide_type": "subslide"
    },
    "tags": []
   },
   "source": [
    "### Experimental Design\n",
    "\n",
    "- CPR game played **20 rounds** in fixed **groups of 4** participants.\n",
    "- 3 treatments, following a between-subject design:\n",
    "    - **_Mandatory Disclosure (MD)_**: individual extractions are disclosed in an **automatic and mandatory manner**\n",
    "    - **_Voluntary Disclosure (VD)_**: after making their extraction decision, the players have to decide **whether or not** they wish to make this extraction decision public\n",
    "    - **_Free Disclosure (FD)_**: after making their extraction decision, players have to decide **whether or not** they wish to make their extraction level public, as well as additionally **deciding the amount of extraction they wish to publicize**\n",
    " \n",
    "  \n",
    "|                          | MD | VD | FD |\n",
    "|--------------------------|----|----|----|\n",
    "| **Voluntary sharing**    | No | Yes | Yes |\n",
    "| **Freedom to choose the value to be disclosed** | No | No  | Yes |\n"
   ]
  },
  {
   "cell_type": "markdown",
   "id": "6327e9c9-0daa-4f80-b50e-a2179d9ae69d",
   "metadata": {
    "editable": true,
    "slideshow": {
     "slide_type": "subslide"
    },
    "tags": []
   },
   "source": [
    "### Conjectures\n",
    "\n",
    "**Conjecture 1**: Individuals disclose extractions frequently due to:\n",
    "- Desire to signal cooperation (warm-glow effect).\n",
    "- Perception of a \"socially appropriate\" extraction level and descriptive norm.\n",
    "\n",
    "**Conjecture 2 (Voluntary Disclosure)**:\n",
    "1. **Disclosed extractions** < **Non-disclosed extractions**.\n",
    "2. **Average extractions** < **Mandatory Disclosure**.\n",
    "   - Non-cooperators avoid making extractions public to limit influence on others.\n",
    "   - Guilt or shame can deter non-prosocial behavior.\n",
    "\n",
    "**Conjecture 3 (Free Disclosure)**:\n",
    "1. **Disclosed extractions** < **Non-disclosed extractions**.\n",
    "2. **Disclosed extractions** < **Actual extractions**.\n",
    "3. **Average extractions** < **Mandatory Disclosure**.\n",
    "   - Cooperators likely to disclose accurate extractions; non-cooperators may hide actual values.\n",
    "   - Some may signal optimal extractions to set a group norm.\n",
    "   - Strategic false disclosures may erode trust, hindering norm formation and conditional cooperation."
   ]
  },
  {
   "cell_type": "markdown",
   "id": "731079f6-bc8b-4f9c-847e-ac98fd76be22",
   "metadata": {
    "editable": true,
    "slideshow": {
     "slide_type": "subslide"
    },
    "tags": []
   },
   "source": [
    "### Results\n",
    "#### Average extraction\n",
    "\n",
    "![Extraction evolution](img/info_sharing/extraction_evolution.png)\n",
    "\n",
    "- Average extractions in MD significantly higher than in VD and FD\n",
    "- No significant difference between VD and FD"
   ]
  },
  {
   "cell_type": "markdown",
   "id": "4c680656-13f2-4e96-bfc7-566ed82af68f",
   "metadata": {
    "editable": true,
    "slideshow": {
     "slide_type": "subslide"
    },
    "tags": []
   },
   "source": [
    "#### Effect of Disclosure\n",
    "\n",
    "![Extraction disclosure](img/info_sharing/extraction_display_extraction.png)\n",
    "\n",
    "- **Lower Extraction with Disclosure**: Players who disclosed their extraction decision extracted less than non-disclosers.\n",
    "- **VD Treatment**: \n",
    "   - Overall average and average of disclosed extractions (displayed values) are closely aligned.\n",
    "   - This alignment supports expected effects of social information: imitation, convergence of decisions, and norm formation within groups.\n",
    "- **FD Treatment**:\n",
    "   - A significant discrepancy between average displayed extractions and actual extractions."
   ]
  },
  {
   "cell_type": "markdown",
   "id": "c6a500b6-f7b4-4237-bad8-5c34255f22c3",
   "metadata": {
    "editable": true,
    "slideshow": {
     "slide_type": "subslide"
    },
    "tags": []
   },
   "source": [
    "#### Strategic Misreporting\n",
    "\n",
    "![FD treatment](img/info_sharing/fd_treatment.png)\n",
    "\n",
    "- **Strategic Misreporting**: Players who misrepresented their extraction level extracted significantly more than those who reported their actual extraction or chose not to disclose.\n",
    "- **Understanding of Social Optimum**: These players appeared to recognize the social optimum (5 units) as a target extraction level.\n",
    "- **Emergence of Strategic Behavior**:\n",
    "   - The freedom to selectively disclose favored strategic reporting.\n",
    "   - Players sent misleading signals by reporting extractions near the social optimum, anticipating that others might reduce their own extraction, thus allowing the misreporters to maximize their profit."
   ]
  },
  {
   "cell_type": "markdown",
   "id": "bdd7163c-142f-43c8-abd0-d2fce30f1fee",
   "metadata": {
    "editable": true,
    "slideshow": {
     "slide_type": "subslide"
    },
    "tags": []
   },
   "source": [
    "### Findings and implications\n",
    "\n",
    "- Effects of social information are **mixed**:\n",
    "    - **VD (Voluntary Disclosure)**: Tends to **encourage cooperative actions** and more sustainable resource use. Cooperative players disclose their actions, while less cooperative players often choose not to disclose to avoid influencing others negatively. This **selective disclosure can foster a cooperative norm** by highlighting lower extractions without spreading non-cooperative behavior.\n",
    "    - **FD (Free Disclosure)**: Allows **strategic manipulation** of shared information. Less cooperative players can misrepresent their extractions, signaling a low, socially optimal level, while actually extracting more. This behavior can erode trust, hinder the formation of a social norm, and potentially hasten resource depletion.\n",
    "\n",
    "- **Implications**:\n",
    "    - Voluntary disclosure can help align actions with cooperative norms when individuals selectively disclose honest information.\n",
    "    - Free disclosure, however, may undermine group trust and lead to over-exploitation, as selective false reporting can mislead others and disrupt cooperative intentions within the group."
   ]
  },
  {
   "cell_type": "markdown",
   "id": "11b6af7f-32ea-4c1f-890b-706f62510bd0",
   "metadata": {
    "editable": true,
    "slideshow": {
     "slide_type": "subslide"
    },
    "tags": []
   },
   "source": [
    "## Quality Relationships within groups\n",
    "\n",
    "Brugnach, M., Dubois, D. & Farolfi, S.,\"The Power of Bonds: How the Quality of Relationships Within a Group Can Drive Collective Actions in Common Pool Resource Management\""
   ]
  },
  {
   "cell_type": "markdown",
   "id": "60eedd45-a7d6-4895-9dbf-ab2525897324",
   "metadata": {
    "editable": true,
    "slideshow": {
     "slide_type": "subslide"
    },
    "tags": []
   },
   "source": [
    "### Research question\n",
    "\n",
    "- Relationships shape collective actions in social dilemmas, including CPR management.\n",
    "- Managing CPRs, like water resources, benefits from cooperative actions which could be influenced by social ties and relational quality.\n",
    "\n",
    "**Does the quality of relationships within a group impact collective management of common pool resources (CPRs)?**\n",
    "\n",
    "_Hypothesis_: Strong, positive relationships within a group are likely to foster cooperation and responsible resource extraction."
   ]
  },
  {
   "cell_type": "markdown",
   "id": "66d17be5-3e91-43b9-bc39-eec83b0af691",
   "metadata": {
    "editable": true,
    "slideshow": {
     "slide_type": "subslide"
    },
    "tags": []
   },
   "source": [
    "### Building Relationships within a Group in the Lab\n",
    "\n",
    "We developed an **effort task** (counting ones in 10x10 grids of zeros and ones) with three different payoff schemes to shape relational quality:\n",
    "\n",
    "- **Individualistic** (control treatment): Each player is paid based on their own performance.\n",
    "- **Cooperative** (promotes positive relational quality): Each player is paid based on the best performance within the group.\n",
    "- **Competitive** (likely reduces relational quality): Only the player with the highest performance is paid; others receive nothing.\n",
    "\n",
    "In all three conditions:\n",
    "- Players shared **the same 100 grids**, displayed upon clicking numbers from 1 to 100.\n",
    "- **Communication was allowed** in each condition.\n",
    "- The task had a duration of **3 minutes**.\n"
   ]
  },
  {
   "cell_type": "markdown",
   "id": "1967e969-0dee-4bf9-b47e-e881c4aa4386",
   "metadata": {
    "editable": true,
    "slideshow": {
     "slide_type": ""
    },
    "tags": []
   },
   "source": [
    "**Screenshot of the effort task**\n",
    "\n",
    "![Effort task](img/relationships/effort_task.png)"
   ]
  },
  {
   "cell_type": "markdown",
   "id": "35d3ebf0-cd16-4c78-af5b-4ca41c64a53f",
   "metadata": {
    "editable": true,
    "slideshow": {
     "slide_type": ""
    },
    "tags": []
   },
   "source": [
    "### CPR Game"
   ]
  },
  {
   "cell_type": "markdown",
   "id": "8ebc339d-5cb3-4ce1-9c4b-2376b53e8d3c",
   "metadata": {
    "editable": true,
    "slideshow": {
     "slide_type": "subslide"
    },
    "tags": []
   },
   "source": [
    "### Experimental design and hypotheses\n",
    "\n",
    "- Flow : Effort task, questionnaires, CPR Game, questionnaires.\n",
    "- Between-subject design\n",
    "- 248 participants\n",
    "\n",
    "**_Hypotheses_**\n",
    "- H1 : **Cooperative effort task enhances relational quality**, while competitive task diminishes it.\n",
    "- H2: **Higher relational quality leads to better management** of CPRs; lower relational quality worsens CPR outcomes."
   ]
  },
  {
   "cell_type": "markdown",
   "id": "70a02ea8-9508-44d2-8f90-07fd7e941f8d",
   "metadata": {
    "editable": true,
    "slideshow": {
     "slide_type": "subslide"
    },
    "tags": []
   },
   "source": [
    "### Results"
   ]
  },
  {
   "cell_type": "markdown",
   "id": "d2531931-8c3f-46bc-a113-216a0678befa",
   "metadata": {
    "editable": true,
    "slideshow": {
     "slide_type": "slide"
    },
    "tags": []
   },
   "source": [
    "# Dynamic Common Pool Resource"
   ]
  },
  {
   "cell_type": "markdown",
   "id": "de950b80-214d-402d-b48e-76cbe65239e0",
   "metadata": {
    "editable": true,
    "slideshow": {
     "slide_type": ""
    },
    "tags": []
   },
   "source": [
    "## Context\n",
    "\n",
    "- CPRs have mainly been studied in a **static framework**: the resource is assumed to be fixed and unchanging over the course of the game. Players make decisions about how much to extract from the resource but theses decisions do not affect the future availability of the resource.\n",
    "- However in reality **many CPRs are dynamic** : they regenerate over an infinite horizon of time and the extraction decisions made by players can affect the future availability of the resource."
   ]
  },
  {
   "cell_type": "markdown",
   "id": "b80b0513-777f-412c-b47e-40bfaebc33cb",
   "metadata": {
    "editable": true,
    "slideshow": {
     "slide_type": "subslide"
    },
    "tags": []
   },
   "source": [
    "## Theoretical Model\n",
    "\n",
    "Based on **Rubio & Casino (2003)**\n",
    "\n",
    "- Linear quadratic model in which two agents $i$ and $j$ exploit a renewable resource $H$, the resource can be assimilated to a groundwater\n",
    "- Extraction from the resource generates a revenue $B(w) = aw -\\frac{b}{2}w^2$\n",
    "- Extraction has a cost $C(H, w) = max(0, c_0-c_1H)w$\n",
    "    - The cost depends negatively on the level of resource $H$\n",
    "    - The cost is positive when the resource level is lower than $\\frac{c_0}{c_1}$ and null if equal or higher. This a piecewise function to avoid subsidy in case of a high level of resource"
   ]
  },
  {
   "cell_type": "markdown",
   "id": "1cd41031-cacf-4800-8c09-6acf21ea9856",
   "metadata": {
    "editable": true,
    "slideshow": {
     "slide_type": "subslide"
    },
    "tags": []
   },
   "source": [
    "In the infinite horizon, the total discounted payoff is given by\n",
    "\n",
    "$\\int_{0}^{\\infty}e^{-rt} \\left[ aw_i(t)-\\frac{b}{2}w_i(t)^{2}-\\max (0,\\; c_{0}-c_{1}H(t))w_i(t) \\right]dt$\n",
    "\n",
    "with $\\dot H(t)=R-\\alpha(w_i(t)+w_j(t))$\n",
    "\n",
    "$r$ is the discount rate, $$ is the natural recharge and $\\alpha$ is the return flow coefficient.\n",
    "\n",
    "**Each player's extraction reduces the resource level, affecting not only their own future payoffs but also the other player's future payoffs**. This interdependence of decisions and outcomes, inherent in CPRs, is incorporated into this dynamic equation."
   ]
  },
  {
   "cell_type": "markdown",
   "id": "55e89ba5-ad72-440a-a0ea-66b6d8e0633c",
   "metadata": {
    "editable": true,
    "slideshow": {
     "slide_type": "subslide"
    },
    "tags": []
   },
   "source": [
    "**3 benchmarks**\n",
    "\n",
    "- **Social optimum**: both players in the pair maximize the joint discounted net payoffs and maintain the resource at an efficient level (cooperative solution)\n",
    "- **Feedback**: players maximize their own discounted net payoffs, they adopt a non-cooperative strategy\n",
    "- **Myopic**: at each instant players maximize their current payoff regardless of the evolution of the resource"
   ]
  },
  {
   "cell_type": "markdown",
   "id": "be6c867e-79c0-44a0-91ad-acf512fa20fc",
   "metadata": {
    "editable": true,
    "slideshow": {
     "slide_type": "subslide"
    },
    "tags": []
   },
   "source": [
    "Choice of parameters such that theoretical paths are disctincts\n",
    "\n",
    "$H_0=15, R=0.56, a=2.5, b=1.8, c_0=2, c_1=0.1, r=0.005, \\alpha=1$\n",
    "\n",
    "![Theoretical Paths](img/theoretical_paths.png)"
   ]
  },
  {
   "cell_type": "markdown",
   "id": "ef77b796-4b6c-4237-bfc0-0336ed168a24",
   "metadata": {
    "editable": true,
    "slideshow": {
     "slide_type": "subslide"
    },
    "tags": []
   },
   "source": [
    "## Time in the lab\n",
    "\n",
    "**Continuous time**\n",
    "- In continuous time, extractions can be made at any instant and the resource evolves continuously.\n",
    "- In a laboratory setting, it's necessary to **discretize the model** to facilitate the experimental process. This is because the continuous-time model would require instantaneous decision-making and feedback, which is **not feasible in a real-world setting** (exchange of information between the computer and the server).\n",
    "\n",
    "**Discrete-time in the lab**  \n",
    "\n",
    "In discrete time, extractions are made at **specific intervals** and the resource evolves from one interval to the next."
   ]
  },
  {
   "cell_type": "markdown",
   "id": "6b54f943-b910-4e72-8093-a13c6f86eb7c",
   "metadata": {
    "editable": true,
    "slideshow": {
     "slide_type": "subslide"
    },
    "tags": []
   },
   "source": [
    "## Infinite horizon\n",
    "\n",
    "- Incorporated into the player's payoff calculation.\n",
    "- At each instant $p$, the player's discounted cumulative payoff (from $t=0$ to $t=p$) is updated. This update includes the discounted payoff from the current instant to infinity (from $t=p$ to $t=\\infty$), assuming that the extraction rate remains constant.\n",
    "- Allows players to observe the long-term consequences of their extraction rate."
   ]
  },
  {
   "cell_type": "markdown",
   "id": "7d6e2b3b-4b63-47f3-8284-dbc68fd8665c",
   "metadata": {
    "editable": true,
    "slideshow": {
     "slide_type": "subslide"
    },
    "tags": []
   },
   "source": [
    "## Continuous vs. discrete time\n",
    "\n",
    "Djiguemde, M., Dubois, D., Sauquet, A. & Tidball, M., 2022. \"[Continuous Versus Discrete Time in Dynamic Common Pool Resource Game Experiments](https://doi.org/10.1007/s10640-022-00700-2)\". Environmental and Resource Economics 82, pp. 985-1014."
   ]
  },
  {
   "cell_type": "markdown",
   "id": "3a74f044-eff7-4446-81a8-f35a4ce68b09",
   "metadata": {
    "editable": true,
    "slideshow": {
     "slide_type": "subslide"
    },
    "tags": []
   },
   "source": [
    "### Conditions for comparison\n",
    "\n",
    "- We designed two conditions to approximate continuous-time (discretization rate $\\tau=0.1$) and discrete-time (discretization rate $\\tau=1$) models.\n",
    "- Both models are **theoretically similar** given these discretization rates\n",
    "- Each condition had a total **play time of 10 minutes**:\n",
    "    - Continuous-Time (CT) treatment: **600 seconds** of play, where 1 second = 0.1 instant in the model.\n",
    "    - Discrete-Time (DT) treatment: **60 periods**, with 10 seconds per period. Here, 1 period = 1 instant in the model.\n",
    "    - Both treatments involved **60 model instants** of play.\n",
    "\n",
    "**_The study investigates behavioral differences in continuous vs. discrete time settings._**"
   ]
  },
  {
   "cell_type": "markdown",
   "id": "56e00f89-8e60-431d-9f6c-64095870f286",
   "metadata": {
    "editable": true,
    "slideshow": {
     "slide_type": "subslide"
    },
    "tags": []
   },
   "source": [
    "<div style=\"display: inline-block; width: 45%\">\n",
    "    <img src=\"img/screenshot_continuous.png\" alt=\"Continuous Time\">  \n",
    "    <p><strong>Continuous Time</strong></p>\n",
    "</div>\n",
    "<div style=\"display: inline-block; width: 45%\">\n",
    "    <img src=\"img/screenshot_discrete.png\" alt=\"Discrete Time\">\n",
    "    <p><strong>Discrete Time</strong></p>\n",
    "</div>"
   ]
  },
  {
   "cell_type": "markdown",
   "id": "2b5b0a0b-b1a0-496c-9c93-f1e8ee972b69",
   "metadata": {
    "editable": true,
    "slideshow": {
     "slide_type": "subslide"
    },
    "tags": []
   },
   "source": [
    "### Experimental Design\n",
    "\n",
    "- Between subject design\n",
    "- A total of 392 participants.\n",
    "- In the optimal control scenario (single player extracting from the resource), we had 202 participants: 104 in the Continuous-Time (CT) treatment and 98 in the Discrete-Time (DT) treatment.\n",
    "- In the game scenario (two players extracting from the same resource), we had 190 participants: 49 pairs in the CT treatment and 46 pairs in the DT treatment."
   ]
  },
  {
   "cell_type": "markdown",
   "id": "fabd91de-0d5c-48fb-9749-d05874bfcd4b",
   "metadata": {
    "editable": true,
    "slideshow": {
     "slide_type": "subslide"
    },
    "tags": []
   },
   "source": [
    "### Results\n",
    "\n",
    "![Courbes résultat](img/cont_dis_results.png)\n",
    "\n",
    "- The resource increases in the optimal control (single player) scenario, but decreases as soon as strategic interaction is introduced.\n",
    "- The nature of time does not significantly affect player behavior in individual play. "
   ]
  },
  {
   "cell_type": "markdown",
   "id": "b47aa26b-0af0-4c70-ae35-db40e66578c4",
   "metadata": {
    "editable": true,
    "slideshow": {
     "slide_type": "subslide"
    },
    "tags": []
   },
   "source": [
    "**In the game**\n",
    "\n",
    "- In the continuous-time treatment, players adjust their extraction rates more frequently and in smaller increments compared to the discrete-time treatment.\n",
    "- In the CT treatment, players were more likely to use a \"tit-for-tat\" strategy, where they would match the extraction rate of the other player. In the DT treatment, players were more likely to use a \"best response\" strategy, where they would adjust their extraction rate based on the other player's previous extraction rate.\n",
    "- Final payoffs are more unequally distributed in the DT treatment compared to the CT treatment."
   ]
  },
  {
   "cell_type": "markdown",
   "id": "f7f28c1b-43db-41e0-8706-aa48f3efd1bf",
   "metadata": {
    "editable": true,
    "slideshow": {
     "slide_type": "subslide"
    },
    "tags": []
   },
   "source": [
    "### Findings and implications for resource management\n",
    "\n",
    "- The nature of time matters when the common pool resource is played with strategic interactions between stakeholders.\n",
    "- This study also makes a significant methodological contribution. We proposed a novel methodology for testing continuous-time models in a laboratory setting, despite the inherent discrete nature of such implementations. This approach allows for a more accurate representation of continuous-time dynamics and provides a framework for future experimental studies in this area."
   ]
  },
  {
   "cell_type": "markdown",
   "id": "cc334a4f-a241-4deb-99f2-09fda272763d",
   "metadata": {
    "editable": true,
    "slideshow": {
     "slide_type": "subslide"
    },
    "tags": []
   },
   "source": [
    "## Discounting\n",
    "\n",
    "Davin, M., Dubois, D., Erdlenbruch, K. & Willinger, M., 2024. \"[Discounting and extraction behavior in continuous time resource experiments](https://hal.inrae.fr/hal-04477409)\". CEE-M Working Paper 2024-06.\n"
   ]
  },
  {
   "cell_type": "markdown",
   "id": "0be8cde7-fb0d-4483-998d-0a5a31d13f35",
   "metadata": {
    "editable": true,
    "slideshow": {
     "slide_type": "subslide"
    },
    "tags": []
   },
   "source": [
    "### Research question \n",
    "\n",
    "In dynamic games, **discounting is typically based on a reference period**.\n",
    "\n",
    "- Theory: discounting is done at **time zero**, where agents choose optimal paths.\n",
    "- Reality: in experiments, participants continuously adapt their extraction strategies.\n",
    "\n",
    "This paper examines **how different discounting periods affect behavior** in a resource extraction experiment.  \n",
    "\n",
    "**Theory suggests no difference** in optimal behavior based on the discounting reference period.  \n",
    "However, **if subjects revise their extraction plans**, p-discounting may influence decisions."
   ]
  },
  {
   "cell_type": "markdown",
   "id": "22f3112b-d0c2-4fb2-9eaf-f634ba34a080",
   "metadata": {
    "editable": true,
    "slideshow": {
     "slide_type": ""
    },
    "tags": []
   },
   "source": [
    "### Difference Between z-discounting and p-discounting Gains\n",
    "\n",
    "For a given payoff function $G(E_t, R_t)$, where $E_t$ is the extraction rate and $R_t$ is the resource stock at time $t$, the total discounted gains are calculated as follows:\n",
    "\n",
    "1. **z-discounting** (time zero discounting):\n",
    "$$GP_p^Z = \\int_{t=0}^p e^{-\\rho t} G(E_t, R_t) \\, dt + \\int_{t > p}^\\infty e^{-\\rho t} G(E_t, R_t) \\, dt$$\n",
    "\n",
    "2. **p-discounting** (present time discounting):\n",
    "$$GP_p^P = \\int_{t=0}^p e^{\\rho (p - t)} G(E_t, R_t) \\, dt + \\int_{t > p}^\\infty e^{-\\rho (t - p)} G(E_t, R_t) \\, dt$$\n",
    "\n",
    "**Relationship Between z-discounting and p-discounting**:\n",
    "$GP_p^P = GP_p^Z \\times e^{\\rho p}$\n",
    "\n",
    "This factor $e^{\\rho p}$ creates a nominal difference in gains between the two discounting methods, potentially influencing participants' behavior due to perceived differences in gain magnitude."
   ]
  },
  {
   "cell_type": "markdown",
   "id": "ad8709ac-6aec-4dc1-a9da-70fa2db612b2",
   "metadata": {
    "editable": true,
    "slideshow": {
     "slide_type": ""
    },
    "tags": []
   },
   "source": [
    "### Experimental design\n",
    "\n",
    "- Participants engage in a **continuous-time resource extraction game**.\n",
    "- Two parts : optimal control (single player) and game (2 players interaction). (_nly optimal control analyzed in the paper_)\n",
    "- **Between-subject design**\n",
    "- Two treatments:\n",
    "    - z-discounting: Gains discounted at time zero. 90 participants.\n",
    "    - p-discounting: Gains discounted at the current time. 70 participants\n",
    "- Feedback is provided on resource levels, extractions, and gains.\n",
    "- **5 minutes of play** (300 secondes)\n",
    "- Control tasks: Convex Time Budget (CTB, impatience), Bomb Risk Elicitation Task (BRET, risk tolerance)"
   ]
  },
  {
   "cell_type": "markdown",
   "id": "4bd59d4d-ecd3-4fb1-afb6-88e02e890195",
   "metadata": {
    "editable": true,
    "slideshow": {
     "slide_type": "subslide"
    },
    "tags": []
   },
   "source": [
    "### Results\n",
    "\n",
    "- _Extraction rates_:\n",
    "    - **Higher under p-discounting** compared to z-discounting.\n",
    "    - Significant deviation from the optimal extraction path in p-discounting.\n",
    "- _Resource depletion_:\n",
    "    - **Faster depletion in p-discounting**.\n",
    "    - Suboptimal behavior compared to z-discounting.\n",
    "- **Subjects who followed optimal strategies showed no treatment effect**.\n",
    "- Non-optimal subjects extracted more under p-discounting.\n",
    "\n",
    "Behavior is influenced by **perceived gains** rather than rational planning."
   ]
  },
  {
   "cell_type": "markdown",
   "id": "705bb9d9-2fab-4da5-9995-7db70c1cda83",
   "metadata": {
    "editable": true,
    "slideshow": {
     "slide_type": "subslide"
    },
    "tags": []
   },
   "source": [
    "### Findings and implications\n",
    "\n",
    "- Contrary to theory, discounting reference periods affect behavior.\n",
    "- Suggest reliance on z-discounting for better alignment with theoretical predictions."
   ]
  },
  {
   "cell_type": "markdown",
   "id": "097efea4-d6b8-4989-9ab1-fd70d1864224",
   "metadata": {
    "editable": true,
    "slideshow": {
     "slide_type": "subslide"
    },
    "tags": []
   },
   "source": [
    "## Individual and strategic behaviors \n",
    "\n",
    "Djiguemde, M. Dubois, D. Sauquet, A. & Tidball, M., 2022. \"[Individual and strategic behaviors in a dynamic extraction problem: results from a within-subject experiment in continuous time](https://doi.org/10.1080/00036846.2022.2129576)\". Applied Economics, pp. 1-24.\n",
    "\n",
    "![Applied Economics](img/applied_economics.webp)"
   ]
  },
  {
   "cell_type": "markdown",
   "id": "8cd4c2a3-d776-4f7a-aaa6-f54fc3ad3817",
   "metadata": {
    "editable": true,
    "slideshow": {
     "slide_type": "subslide"
    },
    "tags": []
   },
   "source": [
    "### Research questions \n",
    "\n",
    "- Do experimental subjects behave as predicted by the dynamic continuous-time model ?\n",
    "- What is the impact of strategic interactions in the dynamic context ?\n",
    "\n",
    "**We compare the observations to the theoretical behaviors, in a single agent situation (optimal control problem) and in a two-players game (differential game).**"
   ]
  },
  {
   "cell_type": "markdown",
   "id": "defe38f3-db72-472a-ba12-ba1b9c1e5cd7",
   "metadata": {
    "editable": true,
    "slideshow": {
     "slide_type": "subslide"
    },
    "tags": []
   },
   "source": [
    "### Experimental design \n",
    "\n",
    "We used an experimental protocol close the one described in the previous experiment, with the following differences:\n",
    "\n",
    "- Within-subject design: each participant played both the optimal control scenario and the game.\n",
    "- 2 trials of the single player scenario before playing for money.\n",
    "- 2 trials of the two-players game before playing for money.\n",
    "- Experiment in continous-time with $\\tau=1$, so that 1 second = 1 instant in the model.\n",
    "- 5 minutes of play (300 seconds).\n",
    "- 70 participants."
   ]
  },
  {
   "cell_type": "markdown",
   "id": "ea75d815-6684-4608-9c22-ac3927dfa720",
   "metadata": {
    "editable": true,
    "slideshow": {
     "slide_type": "subslide"
    },
    "tags": []
   },
   "source": [
    "### Results\n",
    "\n",
    "**Evolution of the resource level**\n",
    "\n",
    "![Av. resource in both treatments](img/resource_both_treatment.png)\n",
    "\n",
    "- Over-exploitation at the beginning (higher in the game).\n",
    "- Greater dispersion observed in the game."
   ]
  },
  {
   "cell_type": "markdown",
   "id": "f18bb441-6808-4b09-bf52-c1fe4c40a207",
   "metadata": {
    "editable": true,
    "slideshow": {
     "slide_type": "subslide"
    },
    "tags": []
   },
   "source": [
    "**Player Behavior Profiles**\n",
    "\n",
    "- We analyzed whether individuals and groups exhibited **myopic, feedback, or optimal behavior**.\n",
    "- This was based on the **Mean Squared** between the observed path and the theoretical one.\n",
    "- We **classified players/groups** as \"significantly\" optimal, myopic, feedback, or undetermined based on their MSDs.\n",
    "- We also considered the conditional MSD (with respect to the $t - 1$ resource level) and applied regressions to check that the coefficient of the conditional decisions corresponding to the lowest MSD was actually different from zero."
   ]
  },
  {
   "cell_type": "markdown",
   "id": "05e98169-34ec-4d0d-a1b4-87ca1f54d3c5",
   "metadata": {
    "editable": true,
    "slideshow": {
     "slide_type": "subslide"
    },
    "tags": []
   },
   "source": [
    "**Optimal control problem**  \n",
    "\n",
    "- 27.14% of participants exhibited <i>optimal</i> behavior, while 72.86% were **undetermined**.\n",
    "- Upon **visual inspection** of the undetermined profiles, we defined new profiles: **convergent** (21.43%) and **under-exploiter** (24.29%)\n",
    "- 27.14% remained **without any particular pattern**\n",
    "\n",
    "![Control Profiles](img/control_profiles.png)"
   ]
  },
  {
   "cell_type": "markdown",
   "id": "0b379c65-8501-4c70-8462-5b622d1b94d4",
   "metadata": {
    "editable": true,
    "slideshow": {
     "slide_type": "subslide"
    },
    "tags": []
   },
   "source": [
    "**Game**\n",
    "\n",
    "- 20% of groups exhibited **optimal behavior**, while 80% were **undetermined**\n",
    "- Upon **visual inspection** of the undetermined profiles, we defined new profiles : **convergent** (25.71%), **under-exploiter** (14.29%) and **over-exploiter** (17.14%)\n",
    "- 22.86% remained **without any particular pattern**\n",
    "\n",
    "![Game Profiles](img/game_profiles.png)"
   ]
  },
  {
   "cell_type": "markdown",
   "id": "7573f451-2fae-44a3-a27b-828515940d97",
   "metadata": {
    "editable": true,
    "slideshow": {
     "slide_type": "subslide"
    },
    "tags": []
   },
   "source": [
    "**Group Composition and Game Outcome**\n",
    "\n",
    "- The composition of groups, in terms of the profiles identified in the optimal control scenario, significantly impacts the outcome of the game.\n",
    "- Groups composed of players who exhibited optimal or convergent behavior in the optimal control scenario tend to perform better in the game scenario: they are more likely to coordinate their actions and achieve higher collective payoffs."
   ]
  },
  {
   "cell_type": "markdown",
   "id": "46c93a24-7237-492d-94cf-9abf9d4aaa74",
   "metadata": {
    "editable": true,
    "slideshow": {
     "slide_type": "subslide"
    },
    "tags": []
   },
   "source": [
    "### Findings and implications for resource management\n",
    "\n",
    "- As expected, **strategic interaction increases the tragedy of the common**.\n",
    "- Nearly 20-25% of individuals and groups succeed in playing **significantly optimal**.\n",
    "- Another 20-25% play optimally but over a finite horizon, the category we called **convergent**.\n",
    "- Our findings underscore the importance of **educating players** about optimal strategies in dynamic resource management contexts.\n",
    "- When players understand how to manage resources optimally over an infinite horizon in a **single-player scenario**, they are better equipped to handle the complexities introduced by strategic interactions in a **multi-player scenario**.\n",
    "- Therefore, efforts to improve individual understanding and decision-making in dynamic resource management can have significant positive impacts on collective outcomes when strategic interactions are involved."
   ]
  },
  {
   "cell_type": "markdown",
   "id": "dcccc054-e59b-4ef5-9bba-3d8db5803632",
   "metadata": {
    "editable": true,
    "slideshow": {
     "slide_type": ""
    },
    "tags": []
   },
   "source": [
    "## Ongoing research questions and projects\n",
    "\n",
    "- Threshold\n",
    "- Chocs\n",
    "- Intergenerational CPR"
   ]
  },
  {
   "cell_type": "markdown",
   "id": "e4b26055-93dd-4e29-a8bc-3bb5c3b3cebe",
   "metadata": {
    "editable": true,
    "slideshow": {
     "slide_type": "slide"
    },
    "tags": []
   },
   "source": [
    "# Dynamic Common Pool Resource with Spatial Externalities\n",
    "\n",
    "Bayle, G., Dubois, D., Beaud, M., Willinger, M. & Querou, N., \"Managing Mobile Common Pool Resources: An Experimental Investigation of Spatial Externalities and Collective Action\"."
   ]
  },
  {
   "cell_type": "markdown",
   "id": "c8c6fd67-2196-4602-9ad6-5d8fbe02902e",
   "metadata": {
    "editable": true,
    "slideshow": {
     "slide_type": "subslide"
    },
    "tags": []
   },
   "source": [
    "## Research questions\n",
    "\n",
    "- How natural resources, which **move between different management zones**, can be effectively managed. \n",
    "- Understand the dynamics of resource management and exploitation in a context where resources are mobile.\n",
    "\n",
    "**Impact of Spatial Externalities**: Examine how spatial externalities affect the efficiency of resource management. Spatial externalities occur when resource exploitation in one area impacts the availability and quality of resources in neighboring areas.\n",
    "\n",
    "**Comparison of Management Structures**: Compare single-actor management with shared management by multiple actors to determine which structure minimizes conflicts and maximizes resource sustainability.\n"
   ]
  },
  {
   "cell_type": "markdown",
   "id": "8ad9f397-75b6-4d0a-92fd-4775cbaa3e57",
   "metadata": {
    "editable": true,
    "slideshow": {
     "slide_type": "subslide"
    },
    "tags": []
   },
   "source": [
    "## Mobile resources \n",
    "\n",
    "- Fisheries: Fish stocks move between fishing zones. Management involves spatial externalities, as exploitation in one area can affect stock availability in others. (Costello & Polasky 2008; Sanchirico & Wilen 1999)\n",
    "- Transboundary Aquifers: Groundwater aquifers span multiple jurisdictions. Pumping in one region affects water availability in connected regions. (Brozovic, Sunding, & Zilberman 2010; Pfeiffer & Lin 2012)\n",
    "- Communal Pastures: Shared grazing lands are used by multiple herders. Overgrazing in one area can degrade resources and affect neighboring areas due to herd mobility. (Ostrom 1990)\n",
    "- Transboundary Forests: Forests span multiple jurisdictions, and logging in one area can affect neighboring areas, particularly concerning biodiversity and ecosystem services. (Albers & Robinson 2013).\n",
    "- Pollination and Ecosystem Services: Pollinators (like bees) move between crop fields, and managing pollination habitats in one area can affect agricultural productivity in neighboring areas. (Ricketts et al. 2008)"
   ]
  },
  {
   "cell_type": "markdown",
   "id": "238484df-ecd7-4141-b3b3-2ff5b3669eb9",
   "metadata": {
    "editable": true,
    "slideshow": {
     "slide_type": "subslide"
    },
    "tags": []
   },
   "source": [
    "## Theoretical Model\n",
    "\n",
    "_Based on Costello et al. (2015)_\n",
    "\n",
    "- Discrete Spatial Domain: N patches, each managed independently but interlinked through resource mobility.\n",
    "- Discrete Time Model: The state of the resource and management actions are updated period by period.\n",
    "- Resource Growth Dynamics: Growth function $g(e,\\alpha)$ which depends on the escapement $e$ (residual stock) and growth parameters $\\alpha$.\n",
    "- Mobility Matrix: $D_{ij}$ defines the fraction of resources moving from patch $i$ to patch $j$, capturing the spatial dynamics of resource movement. $D_{ii}$ refers to the retention rate.\n",
    "- Profit Function: $\\pi_{it}=p_i \\times h_{it}$, where $p_i$ is the price of the resource in patch $i$ and $h_{it}$ is the harvested amount at time $t$.\n"
   ]
  },
  {
   "cell_type": "markdown",
   "id": "2fedb7cb-ca29-4906-b037-277d961266d2",
   "metadata": {
    "editable": true,
    "slideshow": {
     "slide_type": "subslide"
    },
    "tags": []
   },
   "source": [
    "<div style=\"display: inline-block; width: 45%\">\n",
    "    <img src=\"img/patchs.png\">\n",
    "</div>\n",
    "<div style=\"display: inline-block; width: 45%\">\n",
    "    <img src=\"img/patchs2.png\">\n",
    "</div>"
   ]
  },
  {
   "cell_type": "markdown",
   "id": "48d848c3-5a8f-446c-b29e-292e6329f110",
   "metadata": {
    "editable": true,
    "slideshow": {
     "slide_type": "subslide"
    },
    "tags": []
   },
   "source": [
    "## Theoretical predictions\n",
    "\n",
    "Efficient path maximizing the aggregate payoffs in both patches over the entire time horizon: Since $\\alpha > 0$ the resource is conserved in both patches (zero harvest) up until the last period and entirely extracted in the last period.  \n",
    "\n",
    "Under decentralized (non cooperative) management, the subgame perfect Nash equilibrium (SPNE) depends on the marginal productivity of the patch and the number of players managing the patch :  \n",
    "Patch marginal productivity (retention rate x growth factor) : $D_{ii} \\times (1 + \\alpha)$\n",
    "- If $D_{ii} \\times (1 + \\alpha)<1$ (low marginal productivity), the resource is mined in both patches initially.\n",
    "- If $D_{ii} \\times (1 + \\alpha)<2$ (high marginal productivity), the number of players affects equilibrium harvests.\n",
    "    - With one player per patch (1A-1B), the SPNE path matches the efficient path.\n",
    "    - With two players in patch B (1A-2B), B players mine continuously, while the A players leaves the resource until the final period, then harvests all remaining stock.\n"
   ]
  },
  {
   "cell_type": "markdown",
   "id": "997b699d-bb52-4c88-8c2e-cc5668f02b34",
   "metadata": {
    "editable": true,
    "slideshow": {
     "slide_type": "subslide"
    },
    "tags": []
   },
   "source": [
    "- H1 : Higher resource mobility decreases overall management efficiency and increases the likelihood of over-exploitation.  \n",
    "_High resource mobility implies low marginal productivity for the patch._\n",
    "\n",
    "\n",
    "- H2 : Single manager systems are more efficient and sustainable compared to multiple manager systems.  \n",
    "_If 2 players in patch B, even in case of a high marginal productivity they mine the resource in their patch._\n"
   ]
  }
 ],
 "metadata": {
  "kernelspec": {
   "display_name": "Python 3 (ipykernel)",
   "language": "python",
   "name": "python3"
  },
  "language_info": {
   "codemirror_mode": {
    "name": "ipython",
    "version": 3
   },
   "file_extension": ".py",
   "mimetype": "text/x-python",
   "name": "python",
   "nbconvert_exporter": "python",
   "pygments_lexer": "ipython3",
   "version": "3.9.13"
  },
  "rise": {
   "custom_css": "custom.css"
  }
 },
 "nbformat": 4,
 "nbformat_minor": 5
}
